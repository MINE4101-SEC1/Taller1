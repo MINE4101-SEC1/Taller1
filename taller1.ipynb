{
 "cells": [
  {
   "cell_type": "markdown",
   "metadata": {},
   "source": [
    "#  **Inversiones inmobiliarias para alquiler vacacional - Paris, Île-de-France, France**\n",
    "\n",
    "#### Author: Lina María Gómez Mesa\n",
    "\n",
    "Como consultor científico de datos especializado en el sector inmobiliario, su objetivo es\n",
    "ayudar a individuos o empresas que buscan invertir en propiedades para alquiler a través\n",
    "de la plataforma AirBnb. A continuación, se muestra el trabajo realizado con el fin de ayudar a dos inversiones a saber en qué invertir en AirBnB.\n"
   ]
  },
  {
   "cell_type": "markdown",
   "metadata": {},
   "source": [
    "### **TABLA DE CONTENIDO**\n",
    "1. [Selección del dataset de trabajo](###1-Dataset-selection)\n",
    "2. [Data Analysis](#Data-Analysis)\n",
    "3. [Results](#Results)\n",
    "4. [Conclusion](#Conclusion)"
   ]
  },
  {
   "cell_type": "markdown",
   "metadata": {},
   "source": [
    "### **1-Dataset-selection**\n",
    "Como consultor científico de datos especializado en el sector inmobiliario, su objetivo es\n",
    "ayudar a individuos o empresas que buscan invertir en propiedades para alquiler a través\n",
    "de la plataforma AirBnb. En esta ocasión, se decidió seleccionar como ciudad a $\\textbf{Paris, Île-de-France, France}$. "
   ]
  },
  {
   "cell_type": "markdown",
   "metadata": {},
   "source": [
    "<div align=\"center\">\n",
    "    <img src=\"utils/paris.png\" alt=\"Paris\">\n",
    "</div>\n"
   ]
  },
  {
   "cell_type": "markdown",
   "metadata": {},
   "source": [
    "### 2. Entendimiento inicial del dataset"
   ]
  },
  {
   "cell_type": "code",
   "execution_count": null,
   "metadata": {
    "vscode": {
     "languageId": "plaintext"
    }
   },
   "outputs": [],
   "source": []
  }
 ],
 "metadata": {
  "language_info": {
   "name": "python"
  }
 },
 "nbformat": 4,
 "nbformat_minor": 2
}
